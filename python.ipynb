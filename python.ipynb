{
 "cells": [
  {
   "cell_type": "code",
   "execution_count": 1,
   "id": "7a26c6c9-7e7e-4e07-bffb-0e6227f3238e",
   "metadata": {},
   "outputs": [
    {
     "name": "stdout",
     "output_type": "stream",
     "text": [
      "[1, 1, 2, 3, 6, 8, 10]\n"
     ]
    }
   ],
   "source": [
    "def sirala(dizi):\n",
    "    if len(dizi) <= 1:\n",
    "        return dizi\n",
    "    referans = dizi[len(dizi) // 2]\n",
    "    sol = [x for x in dizi if x < referans]\n",
    "    orta = [x for x in dizi if x == referans]\n",
    "    sag = [x for x in dizi if x > referans]\n",
    "    return sirala(sol) + orta + sirala(sag)\n",
    "\n",
    "print (sirala([3,6,8,10,1,2,1]))"
   ]
  },
  {
   "cell_type": "code",
   "execution_count": null,
   "id": "71f01aaf-da59-4146-ad76-d1d8d7f1f9f1",
   "metadata": {},
   "outputs": [],
   "source": []
  }
 ],
 "metadata": {
  "kernelspec": {
   "display_name": "Python 3 (ipykernel)",
   "language": "python",
   "name": "python3"
  },
  "language_info": {
   "codemirror_mode": {
    "name": "ipython",
    "version": 3
   },
   "file_extension": ".py",
   "mimetype": "text/x-python",
   "name": "python",
   "nbconvert_exporter": "python",
   "pygments_lexer": "ipython3",
   "version": "3.8.12"
  }
 },
 "nbformat": 4,
 "nbformat_minor": 5
}
